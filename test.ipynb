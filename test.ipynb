{
 "cells": [
  {
   "cell_type": "code",
   "execution_count": 5,
   "metadata": {},
   "outputs": [],
   "source": [
    "import pickle\n",
    "import os\n",
    "import numpy as np\n",
    "import pandas as pd\n",
    "import scipy.sparse as sp"
   ]
  },
  {
   "cell_type": "code",
   "execution_count": 101,
   "metadata": {},
   "outputs": [
    {
     "name": "stderr",
     "output_type": "stream",
     "text": [
      "C:\\Users\\LENOVO\\AppData\\Local\\Temp\\ipykernel_14232\\3729012348.py:2: DeprecationWarning: Please use `csr_matrix` from the `scipy.sparse` namespace, the `scipy.sparse.csr` namespace is deprecated.\n",
      "  csr = pickle.load(f)\n"
     ]
    }
   ],
   "source": [
    "with open('test.pkl', 'rb') as f:\n",
    "    csr = pickle.load(f)\n",
    "    \n",
    "with open('neg.pkl', 'rb') as f1:\n",
    "    neg = pickle.load(f1)\n",
    "# neg = np.array(neg)"
   ]
  },
  {
   "cell_type": "code",
   "execution_count": 102,
   "metadata": {},
   "outputs": [],
   "source": [
    "for i in range(8039):\n",
    "    j = sum(csr[i].data)\n",
    "    if j > 1:\n",
    "        print(i, j)"
   ]
  },
  {
   "cell_type": "code",
   "execution_count": 106,
   "metadata": {},
   "outputs": [],
   "source": [
    "csr = ub_valid\n",
    "\n",
    "# csr = csr.tocsr()\n",
    "idx, _ = np.nonzero(np.sum(csr, 1))\n",
    "pos = np.nonzero(csr[idx].toarray())[1]\n",
    "pos = pos[:, np.newaxis]\n",
    "neg = neg[idx]"
   ]
  },
  {
   "cell_type": "code",
   "execution_count": 107,
   "metadata": {},
   "outputs": [],
   "source": [
    "arr = np.concatenate((pos, neg), axis=1)"
   ]
  },
  {
   "cell_type": "code",
   "execution_count": 6,
   "metadata": {},
   "outputs": [],
   "source": [
    "def get_ub(task):\n",
    "        with open(os.path.join('data/Youshu', 'user_bundle_{}.txt'.format(task)), 'r') as f:\n",
    "            u_b_pairs = list(map(lambda s: tuple(int(i) for i in s[:-1].split('\\t')), f.readlines()))\n",
    "\n",
    "        indice = np.array(u_b_pairs, dtype=np.int32)\n",
    "        values = np.ones(len(u_b_pairs), dtype=np.float32)\n",
    "        u_b_graph = sp.coo_matrix(\n",
    "            (values, (indice[:, 0], indice[:, 1])), shape=(8039, 4771)).tocsr()\n",
    "\n",
    "        return u_b_pairs, u_b_graph\n",
    "    \n",
    "def get_bi():\n",
    "    with open(os.path.join('data/Youshu', 'bundle_item.txt'), 'r') as f:\n",
    "        b_i_pairs = list(map(lambda s: tuple(int(i) for i in s[:-1].split('\\t')), f.readlines()))\n",
    "\n",
    "    indice = np.array(b_i_pairs, dtype=np.int32)\n",
    "    values = np.ones(len(b_i_pairs), dtype=np.float32)\n",
    "    b_i_graph = sp.coo_matrix(\n",
    "        (values, (indice[:, 0], indice[:, 1])), shape=(4771, 32770)).tocsr()\n",
    "\n",
    "    return b_i_graph"
   ]
  },
  {
   "cell_type": "code",
   "execution_count": 7,
   "metadata": {},
   "outputs": [],
   "source": [
    "bi_graph = get_bi()"
   ]
  },
  {
   "cell_type": "code",
   "execution_count": 8,
   "metadata": {},
   "outputs": [],
   "source": [
    "ub_pairs_train, ub_graph_train = get_ub('train')\n",
    "ub_pairs_valid, ub_graph_valid = get_ub('tune')\n",
    "ub_pairs_test, ub_graph_test = get_ub('test')\n",
    "ub = ub_graph_train + ub_graph_valid + ub_graph_test"
   ]
  },
  {
   "cell_type": "code",
   "execution_count": 9,
   "metadata": {},
   "outputs": [],
   "source": [
    "def regen(ub):\n",
    "    train_rows, train_cols = ub.nonzero()[0][:-2], ub.nonzero()[1][:-2]\n",
    "    valid_rows, valid_cols = ub.nonzero()[0][-2:-1], ub.nonzero()[1][-2:-1]\n",
    "    test_rows, test_cols = ub.nonzero()[0][-1:], ub.nonzero()[1][-1:]\n",
    "    ub_train = sp.csr_matrix((np.ones(len(train_rows)), (train_rows, train_cols)), shape=ub.shape)\n",
    "    ub_valid = sp.csr_matrix((np.ones(len(valid_rows)), (valid_rows, valid_cols)), shape=ub.shape)\n",
    "    ub_test = sp.csr_matrix((np.ones(len(test_rows)), (test_rows, test_cols)), shape=ub.shape)\n",
    "    \n",
    "    return ub_train, ub_valid, ub_test\n",
    "    "
   ]
  },
  {
   "cell_type": "code",
   "execution_count": 10,
   "metadata": {},
   "outputs": [],
   "source": [
    "ub_train, ub_valid, ub_test = regen(ub)"
   ]
  },
  {
   "cell_type": "code",
   "execution_count": 15,
   "metadata": {},
   "outputs": [],
   "source": [
    "row, col = ub_train.nonzero()"
   ]
  },
  {
   "cell_type": "code",
   "execution_count": 20,
   "metadata": {},
   "outputs": [],
   "source": [
    "row = np.array(row)\n",
    "col = np.array(col)\n",
    "pairs = np.concatenate((row[:, np.newaxis], col[:, np.newaxis]), axis=1)"
   ]
  },
  {
   "cell_type": "code",
   "execution_count": 24,
   "metadata": {},
   "outputs": [],
   "source": [
    "tuple_pairs = [tuple(pair) for pair in pairs]\n",
    "\n",
    "# Convert the list of tuples to a numpy array (optional)\n",
    "tuple_pairs_array = np.array(tuple_pairs, dtype=[('x', int), ('y', int)])"
   ]
  },
  {
   "cell_type": "code",
   "execution_count": 105,
   "metadata": {},
   "outputs": [],
   "source": [
    "neg = []\n",
    "idx = ub_graph_valid.sum(axis=1).nonzero()[0]\n",
    "\n",
    "for u in range(8039):\n",
    "    neg.append(np.random.choice(np.setdiff1d(np.arange(4771), ub_train[u].nonzero()[1]), 99, replace=False))\n",
    "    \n",
    "neg = np.array(neg)"
   ]
  },
  {
   "cell_type": "code",
   "execution_count": null,
   "metadata": {},
   "outputs": [],
   "source": []
  }
 ],
 "metadata": {
  "kernelspec": {
   "display_name": "hieu",
   "language": "python",
   "name": "python3"
  },
  "language_info": {
   "codemirror_mode": {
    "name": "ipython",
    "version": 3
   },
   "file_extension": ".py",
   "mimetype": "text/x-python",
   "name": "python",
   "nbconvert_exporter": "python",
   "pygments_lexer": "ipython3",
   "version": "3.10.12"
  }
 },
 "nbformat": 4,
 "nbformat_minor": 2
}
