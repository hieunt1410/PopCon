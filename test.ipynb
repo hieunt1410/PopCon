{
 "cells": [
  {
   "cell_type": "code",
   "execution_count": 22,
   "metadata": {},
   "outputs": [],
   "source": [
    "import pickle\n",
    "import os\n",
    "import numpy as np\n",
    "import pandas as pd\n",
    "import scipy.sparse as sp"
   ]
  },
  {
   "cell_type": "code",
   "execution_count": 2,
   "metadata": {},
   "outputs": [],
   "source": [
    "with open('neg.pkl', 'rb') as f:\n",
    "    data = pickle.load(f)"
   ]
  },
  {
   "cell_type": "code",
   "execution_count": 142,
   "metadata": {},
   "outputs": [
    {
     "data": {
      "text/plain": [
       "array([ 709, 2741, 1912, 2135, 2659, 2208, 1684, 1516, 3739, 2734, 2952,\n",
       "       1630, 4014, 3138, 3055, 4255, 1946, 4050, 3861, 2657, 1010, 3905,\n",
       "       3276, 2637, 1394, 1341, 2650, 1050,  115, 4187, 1005, 3151,  202,\n",
       "       2883, 3050, 1364, 1814, 1592, 2566, 4170, 3821, 1743, 2156, 4571,\n",
       "       2752, 3164,  764, 2265, 3604, 1217,  113, 2122,   89, 2842,  804,\n",
       "       3097, 1522, 2537, 1518,  480, 3572, 2844,  416, 4033, 4343, 2820,\n",
       "       4030, 4136, 4619, 3205, 3424, 4156,  158, 1029, 3767, 3790, 3756,\n",
       "        223, 1412, 4159,  671, 2186,  973,  526, 4671, 4483, 2589, 3851,\n",
       "        578, 3586, 3002, 2419, 4060, 1037, 2166, 2681, 1820, 1696, 3574],\n",
       "      dtype=int64)"
      ]
     },
     "execution_count": 142,
     "metadata": {},
     "output_type": "execute_result"
    }
   ],
   "source": [
    "data[0]"
   ]
  },
  {
   "cell_type": "code",
   "execution_count": 171,
   "metadata": {},
   "outputs": [],
   "source": [
    "def get_ub(task):\n",
    "        with open(os.path.join('data/Youshu', 'user_bundle_{}.txt'.format(task)), 'r') as f:\n",
    "            u_b_pairs = list(map(lambda s: tuple(int(i) for i in s[:-1].split('\\t')), f.readlines()))\n",
    "\n",
    "        indice = np.array(u_b_pairs, dtype=np.int32)\n",
    "        values = np.ones(len(u_b_pairs), dtype=np.float32)\n",
    "        u_b_graph = sp.coo_matrix(\n",
    "            (values, (indice[:, 0], indice[:, 1])), shape=(8039, 4771)).tocsr()\n",
    "\n",
    "        return u_b_pairs, u_b_graph"
   ]
  },
  {
   "cell_type": "code",
   "execution_count": null,
   "metadata": {},
   "outputs": [],
   "source": [
    "def get_ub():\n",
    "    with open('user_bundle.txt', 'r') as f:\n",
    "        u_b_pairs = list(map(lambda s: tuple(int(i) for i in s[:-1].split('\\t')), f.readlines()))\n",
    "\n",
    "    indice = np.array(u_b_pairs, dtype=np.int32)\n",
    "    values = np.ones(len(u_b_pairs), dtype=np.float32)\n",
    "    u_b_graph = sp.coo_matrix(\n",
    "        (values, (indice[:, 0], indice[:, 1])), shape=(8039, 4771)).tocsr()\n",
    "\n",
    "    return u_b_pairs, u_b_graph"
   ]
  },
  {
   "cell_type": "code",
   "execution_count": 172,
   "metadata": {},
   "outputs": [],
   "source": [
    "ub_pairs, ub_graph = get_ub('train')"
   ]
  },
  {
   "cell_type": "code",
   "execution_count": 193,
   "metadata": {},
   "outputs": [
    {
     "ename": "AttributeError",
     "evalue": "'numpy.ndarray' object has no attribute 'append'",
     "output_type": "error",
     "traceback": [
      "\u001b[1;31m---------------------------------------------------------------------------\u001b[0m",
      "\u001b[1;31mAttributeError\u001b[0m                            Traceback (most recent call last)",
      "Cell \u001b[1;32mIn[193], line 7\u001b[0m\n\u001b[0;32m      5\u001b[0m neg_bun \u001b[38;5;241m=\u001b[39m np\u001b[38;5;241m.\u001b[39msetdiff1d(np\u001b[38;5;241m.\u001b[39marange(\u001b[38;5;241m4771\u001b[39m), ub_graph\u001b[38;5;241m.\u001b[39mcol[ub_graph\u001b[38;5;241m.\u001b[39mrow \u001b[38;5;241m==\u001b[39m u])\n\u001b[0;32m      6\u001b[0m np\u001b[38;5;241m.\u001b[39mrandom\u001b[38;5;241m.\u001b[39mshuffle(neg_bun)\n\u001b[1;32m----> 7\u001b[0m \u001b[43mneg\u001b[49m\u001b[38;5;241;43m.\u001b[39;49m\u001b[43mappend\u001b[49m(neg_bun[:\u001b[38;5;241m100\u001b[39m])\n",
      "\u001b[1;31mAttributeError\u001b[0m: 'numpy.ndarray' object has no attribute 'append'"
     ]
    }
   ],
   "source": [
    "neg = np.array([])\n",
    "np.random.seed(2024)\n",
    "\n",
    "for u in range(8039):\n",
    "    neg_bun = np.setdiff1d(np.arange(4771), ub_graph.col[ub_graph.row == u])\n",
    "    np.random.shuffle(neg_bun)\n",
    "    neg.append(neg_bun[:100])"
   ]
  },
  {
   "cell_type": "code",
   "execution_count": 191,
   "metadata": {},
   "outputs": [
    {
     "data": {
      "text/plain": [
       "100"
      ]
     },
     "execution_count": 191,
     "metadata": {},
     "output_type": "execute_result"
    }
   ],
   "source": [
    "len(neg[0])"
   ]
  },
  {
   "cell_type": "code",
   "execution_count": 173,
   "metadata": {},
   "outputs": [],
   "source": [
    "ub_graph = ub_graph.tocoo()"
   ]
  },
  {
   "cell_type": "code",
   "execution_count": 174,
   "metadata": {},
   "outputs": [],
   "source": [
    "row_indices = np.where(ub_graph.row == 0)"
   ]
  },
  {
   "cell_type": "code",
   "execution_count": 192,
   "metadata": {},
   "outputs": [],
   "source": [
    "for u in range(8039):\n",
    "    row_indices = np.where(ub_graph.row == u)\n",
    "    for x in neg[u]:\n",
    "        if x in ub_graph.col[row_indices]:\n",
    "            print(u, x)"
   ]
  },
  {
   "cell_type": "code",
   "execution_count": null,
   "metadata": {},
   "outputs": [],
   "source": []
  }
 ],
 "metadata": {
  "kernelspec": {
   "display_name": "hieu",
   "language": "python",
   "name": "python3"
  },
  "language_info": {
   "codemirror_mode": {
    "name": "ipython",
    "version": 3
   },
   "file_extension": ".py",
   "mimetype": "text/x-python",
   "name": "python",
   "nbconvert_exporter": "python",
   "pygments_lexer": "ipython3",
   "version": "3.10.12"
  }
 },
 "nbformat": 4,
 "nbformat_minor": 2
}
