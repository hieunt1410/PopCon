{
 "cells": [
  {
   "cell_type": "code",
   "execution_count": 1,
   "metadata": {},
   "outputs": [],
   "source": [
    "import numpy as np\n",
    "import matplotlib.pyplot as plt\n",
    "import seaborn as sns\n",
    "import pandas as pd\n",
    "import os\n",
    "import sys\n",
    "import scipy.sparse as sp\n",
    "import torch"
   ]
  },
  {
   "cell_type": "code",
   "execution_count": 2,
   "metadata": {},
   "outputs": [],
   "source": [
    "path = 'data/cold/Youshu/'\n",
    "ui = pd.read_csv(os.path.join(path, 'user_item.txt'), sep='\\t', header=None)\n",
    "bi = pd.read_csv(os.path.join(path, 'bundle_item.txt'), sep='\\t', header=None)\n",
    "ui.columns = ['user', 'item']\n",
    "bi.columns = ['bundle', 'item']\n",
    "\n",
    "ub_train = pd.read_csv(os.path.join(path, 'user_bundle_train.txt'), sep='\\t', header=None)\n",
    "ub_tune = pd.read_csv(os.path.join(path, 'user_bundle_tune.txt'), sep='\\t', header=None)\n",
    "ub_test = pd.read_csv(os.path.join(path, 'user_bundle_test.txt'), sep='\\t', header=None)\n",
    "ub = pd.concat([ub_train, ub_tune, ub_test], ignore_index=True)\n",
    "ub.columns = ['user', 'bundle']\n",
    "ub_train.columns = ['user', 'bundle']\n",
    "ub_tune.columns = ['user', 'bundle']\n",
    "ub_test.columns = ['user', 'bundle']"
   ]
  },
  {
   "cell_type": "code",
   "execution_count": 3,
   "metadata": {},
   "outputs": [],
   "source": [
    "with open(os.path.join(path, 'bundle_item.txt'), 'r') as f:\n",
    "    bi_pairs = list(map(lambda s: tuple(int(i) for i in s[:-1].split('\\t')), f.readlines()))\n",
    "        \n",
    "indices = np.array(bi_pairs, dtype=np.int32)\n",
    "values = np.ones(len(bi_pairs))\n",
    "bi_graph = sp.coo_matrix((values, (indices[:, 0], indices[:, 1])), shape=(4771, 32770)).tocsr()"
   ]
  },
  {
   "cell_type": "code",
   "execution_count": 4,
   "metadata": {},
   "outputs": [],
   "source": [
    "with open(os.path.join(path, 'user_item.txt'), 'r') as f:\n",
    "    bi_pairs = list(map(lambda s: tuple(int(i) for i in s[:-1].split('\\t')), f.readlines()))\n",
    "        \n",
    "indices = np.array(bi_pairs, dtype=np.int32)\n",
    "values = np.ones(len(bi_pairs))\n",
    "ui_graph = sp.coo_matrix((values, (indices[:, 0], indices[:, 1])), shape=(8039, 32770)).tocsr()"
   ]
  },
  {
   "cell_type": "code",
   "execution_count": 24,
   "metadata": {},
   "outputs": [
    {
     "data": {
      "text/plain": [
       "scipy.sparse._csr.csr_matrix"
      ]
     },
     "execution_count": 24,
     "metadata": {},
     "output_type": "execute_result"
    }
   ],
   "source": [
    "type(ui_graph)"
   ]
  },
  {
   "cell_type": "markdown",
   "metadata": {},
   "source": [
    "# **EDA**"
   ]
  },
  {
   "cell_type": "code",
   "execution_count": 73,
   "metadata": {},
   "outputs": [
    {
     "name": "stdout",
     "output_type": "stream",
     "text": [
      "Item frequency in UI view:\n",
      "16253    778\n",
      "14647    410\n",
      "30487    408\n",
      "23602    407\n",
      "30693    393\n",
      "        ... \n",
      "28469      1\n",
      "29226      1\n",
      "31209      1\n",
      "18649      1\n",
      "7676       1\n",
      "Name: item, Length: 21034, dtype: int64\n",
      "\n",
      "\n",
      "\n",
      "Number of cold-item: 15864\n",
      "Number of warm-item: 5170\n",
      "Number of non-interacted item: 11736\n",
      "\n",
      "\n",
      "\n",
      "Statistics of item frequency in UI view:\n",
      "count    21034.000000\n",
      "mean         6.585290\n",
      "std         19.441295\n",
      "min          1.000000\n",
      "25%          1.000000\n",
      "50%          2.000000\n",
      "75%          4.000000\n",
      "max        778.000000\n",
      "Name: item, dtype: float64\n"
     ]
    }
   ],
   "source": [
    "i_ui = set(ui['item'].unique())\n",
    "i_bi = set(bi['item'].unique())\n",
    "\n",
    "# Real user-item interactions\n",
    "item_freq_ui = ui['item'].value_counts()\n",
    "print(\"Item frequency in UI view:\")\n",
    "print(item_freq_ui)\n",
    "print('\\n\\n')\n",
    "# Cold-item\n",
    "cold_item = set(item_freq_ui[item_freq_ui < 5].index)\n",
    "print(\"Number of cold-item:\", len(cold_item))\n",
    "# Warm-item\n",
    "warm_item = set(item_freq_ui[item_freq_ui >= 5].index)\n",
    "print(\"Number of warm-item:\", len(warm_item))\n",
    "non_interacted_item = i_bi.difference(i_bi.intersection(i_ui))\n",
    "print(\"Number of non-interacted item:\", len(non_interacted_item))\n",
    "\n",
    "print('\\n\\n')\n",
    "print(\"Statistics of item frequency in UI view:\")\n",
    "print(item_freq_ui.describe())"
   ]
  },
  {
   "cell_type": "code",
   "execution_count": 74,
   "metadata": {},
   "outputs": [
    {
     "name": "stdout",
     "output_type": "stream",
     "text": [
      "Item frequency in BI view:\n",
      "17427    394\n",
      "6109     390\n",
      "12058    376\n",
      "16253    353\n",
      "6740     343\n",
      "        ... \n",
      "16358      1\n",
      "15370      1\n",
      "15333      1\n",
      "14668      1\n",
      "1796       1\n",
      "Name: item, Length: 28074, dtype: int64\n",
      "\n",
      "\n",
      "\n",
      "Number of cold-bundle: 975\n",
      "Number of warm-bundle: 3796\n",
      "\n",
      "\n",
      "\n",
      "Statistics of item frequency in BI view:\n",
      "count    28074.000000\n",
      "mean         6.292904\n",
      "std         16.808898\n",
      "min          1.000000\n",
      "25%          1.000000\n",
      "50%          2.000000\n",
      "75%          5.000000\n",
      "max        394.000000\n",
      "Name: item, dtype: float64\n"
     ]
    }
   ],
   "source": [
    "# Real bundle-item interactions\n",
    "item_freq_bi = bi['item'].value_counts()\n",
    "\n",
    "print(\"Item frequency in BI view:\")\n",
    "print(item_freq_bi)\n",
    "\n",
    "cold_bundle = {}\n",
    "bi_lvl = {}\n",
    "\n",
    "for x in bi['bundle'].unique():\n",
    "    items = bi[bi['bundle'] == x]['item'].tolist()\n",
    "    bi_lvl[x] = items\n",
    "    n = len(items)\n",
    "    if len(set(items).intersection(cold_item)) + len(set(items).intersection(non_interacted_item)) >= n * 0.5:\n",
    "        cold_bundle[x] = items\n",
    "\n",
    "print('\\n\\n')\n",
    "print(\"Number of cold-bundle:\", len(cold_bundle))\n",
    "print(\"Number of warm-bundle:\", len(bi['bundle'].unique()) - len(cold_bundle))\n",
    "\n",
    "print('\\n\\n')\n",
    "print(\"Statistics of item frequency in BI view:\")\n",
    "print(item_freq_bi.describe())"
   ]
  },
  {
   "cell_type": "code",
   "execution_count": 3,
   "metadata": {},
   "outputs": [
    {
     "name": "stdout",
     "output_type": "stream",
     "text": [
      "[(0, 1), (1, 0), (1, 1), (2, 2), (2, 3), (3, 3), (3, 1), (4, 0)]\n"
     ]
    }
   ],
   "source": [
    "with open(\"ui.txt\", \"r\") as f:\n",
    "    u_i_pairs = list(map(lambda s: tuple(int(i) for i in s[:-1].split()), f.readlines()))\n",
    "\n",
    "print(u_i_pairs)"
   ]
  },
  {
   "cell_type": "code",
   "execution_count": 30,
   "metadata": {},
   "outputs": [],
   "source": [
    "indices = np.array(u_i_pairs, dtype=np.int32)\n",
    "values = np.ones(len(u_i_pairs), dtype=np.float32)\n",
    "u_i_graph = sp.coo_matrix(\n",
    "    (values, (indices[:, 0], indices[:, 1])), shape=(5, 4)).tocsr()"
   ]
  },
  {
   "cell_type": "code",
   "execution_count": 31,
   "metadata": {},
   "outputs": [],
   "source": [
    "item_level_graph = sp.bmat([[sp.csr_matrix((u_i_graph.shape[0], u_i_graph.shape[0])), u_i_graph], [u_i_graph.T, sp.csr_matrix((u_i_graph.shape[1], u_i_graph.shape[1]))]])"
   ]
  },
  {
   "cell_type": "code",
   "execution_count": 32,
   "metadata": {},
   "outputs": [
    {
     "data": {
      "text/plain": [
       "array([[0., 0., 0., 0., 0., 0., 1., 0., 0.],\n",
       "       [0., 0., 0., 0., 0., 1., 1., 0., 0.],\n",
       "       [0., 0., 0., 0., 0., 0., 0., 1., 1.],\n",
       "       [0., 0., 0., 0., 0., 0., 1., 0., 1.],\n",
       "       [0., 0., 0., 0., 0., 1., 0., 0., 0.],\n",
       "       [0., 1., 0., 0., 1., 0., 0., 0., 0.],\n",
       "       [1., 1., 0., 1., 0., 0., 0., 0., 0.],\n",
       "       [0., 0., 1., 0., 0., 0., 0., 0., 0.],\n",
       "       [0., 0., 1., 1., 0., 0., 0., 0., 0.]])"
      ]
     },
     "execution_count": 32,
     "metadata": {},
     "output_type": "execute_result"
    }
   ],
   "source": [
    "item_level_graph.toarray()"
   ]
  },
  {
   "cell_type": "code",
   "execution_count": 33,
   "metadata": {},
   "outputs": [],
   "source": [
    "def to_tensor(graph):\n",
    "    \"\"\"Convert to sparse tensor\"\"\"\n",
    "    graph = graph.tocoo()\n",
    "    values = graph.data\n",
    "    indices = np.vstack((graph.row, graph.col))\n",
    "    graph = torch.sparse_coo_tensor(torch.LongTensor(indices), torch.FloatTensor(values), torch.Size(graph.shape))\n",
    "    \n",
    "    return graph\n",
    "\n",
    "def get_user_prop_graph( bipartite_graph, modification_ratio=0):\n",
    "        # device = self.device\n",
    "        propagation_graph = sp.bmat([[sp.csr_matrix((bipartite_graph.shape[0], bipartite_graph.shape[0])), bipartite_graph], [bipartite_graph.T, sp.csr_matrix((bipartite_graph.shape[1], bipartite_graph.shape[1]))]])\n",
    "        \n",
    "        degree = np.array(propagation_graph.sum(axis=1)).squeeze()\n",
    "        degree = np.maximum(1., degree)\n",
    "        d_inv = np.power(degree, -0.5)\n",
    "        d_mat = sp.diags(d_inv, format='csr', dtype=np.float32)\n",
    "        \n",
    "        # norm_adj = d_mat.dot(propagation_graph).dot(d_mat)\n",
    "        norm_adj = d_mat @ propagation_graph @ d_mat\n",
    "        norm_adj = to_tensor(norm_adj)\n",
    "        return norm_adj\n",
    "    \n",
    "rep= get_user_prop_graph(item_level_graph)"
   ]
  },
  {
   "cell_type": "code",
   "execution_count": 34,
   "metadata": {},
   "outputs": [],
   "source": [
    "row, col = rep.coalesce().indices()"
   ]
  },
  {
   "cell_type": "code",
   "execution_count": 26,
   "metadata": {},
   "outputs": [],
   "source": [
    "train_item_result = [\n",
    "    [0, 1, 2],  # Users 0, 1, 2 interacted with item 0\n",
    "    [2, 3],     # Users 2, 3 interacted with item 1\n",
    "    [0, 2, 3],  # Users 0, 2, 3 interacted with item 2\n",
    "]"
   ]
  },
  {
   "cell_type": "code",
   "execution_count": 28,
   "metadata": {},
   "outputs": [],
   "source": [
    "ground_truth_pairs = []\n",
    "for item, rec_user_set in enumerate(train_item_result):\n",
    "    rec_user_set = [int(u) for u in rec_user_set]\n",
    "    # rec_map[rec_user_set, item] = 1\n",
    "    ground_truth_pairs.extend(list(zip(rec_user_set, [item]*len(rec_user_set))))"
   ]
  },
  {
   "cell_type": "code",
   "execution_count": 29,
   "metadata": {},
   "outputs": [
    {
     "data": {
      "text/plain": [
       "[(0, 0), (1, 0), (2, 0), (2, 1), (3, 1), (0, 2), (2, 2), (3, 2)]"
      ]
     },
     "execution_count": 29,
     "metadata": {},
     "output_type": "execute_result"
    }
   ],
   "source": [
    "ground_truth_pairs"
   ]
  },
  {
   "cell_type": "code",
   "execution_count": 40,
   "metadata": {},
   "outputs": [],
   "source": [
    "a = torch.Tensor(u_i_graph.nonzero()[1])"
   ]
  },
  {
   "cell_type": "code",
   "execution_count": 45,
   "metadata": {},
   "outputs": [],
   "source": [
    "uniques, counts = a.unique(return_counts=True)\n",
    "values = torch.Tensor([1,2,3,4,5,6,7,8])"
   ]
  },
  {
   "cell_type": "code",
   "execution_count": 46,
   "metadata": {},
   "outputs": [],
   "source": [
    "reduce = torch.sum\n",
    "groups = torch.stack([reduce(item) for item in torch.split_with_sizes(values, tuple(counts))])"
   ]
  },
  {
   "cell_type": "code",
   "execution_count": 47,
   "metadata": {},
   "outputs": [
    {
     "data": {
      "text/plain": [
       "tensor([ 3., 12.,  6., 15.])"
      ]
     },
     "execution_count": 47,
     "metadata": {},
     "output_type": "execute_result"
    }
   ],
   "source": [
    "groups"
   ]
  },
  {
   "cell_type": "code",
   "execution_count": 50,
   "metadata": {},
   "outputs": [
    {
     "data": {
      "text/plain": [
       "matrix([[2.],\n",
       "        [3.],\n",
       "        [1.],\n",
       "        [2.]], dtype=float32)"
      ]
     },
     "execution_count": 50,
     "metadata": {},
     "output_type": "execute_result"
    }
   ],
   "source": [
    "u_i_graph.sum(axis=0).squeeze().T"
   ]
  },
  {
   "cell_type": "code",
   "execution_count": null,
   "metadata": {},
   "outputs": [],
   "source": []
  }
 ],
 "metadata": {
  "kernelspec": {
   "display_name": "hieu",
   "language": "python",
   "name": "python3"
  },
  "language_info": {
   "codemirror_mode": {
    "name": "ipython",
    "version": 3
   },
   "file_extension": ".py",
   "mimetype": "text/x-python",
   "name": "python",
   "nbconvert_exporter": "python",
   "pygments_lexer": "ipython3",
   "version": "3.10.12"
  }
 },
 "nbformat": 4,
 "nbformat_minor": 2
}
